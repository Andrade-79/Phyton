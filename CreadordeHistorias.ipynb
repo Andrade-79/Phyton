{
  "nbformat": 4,
  "nbformat_minor": 0,
  "metadata": {
    "colab": {
      "provenance": [],
      "toc_visible": true
    },
    "kernelspec": {
      "name": "python3",
      "display_name": "Python 3"
    },
    "language_info": {
      "name": "python"
    }
  },
  "cells": [
    {
      "cell_type": "markdown",
      "source": [
        "# Generador de Historias"
      ],
      "metadata": {
        "id": "xpL8g7iqntxb"
      }
    },
    {
      "cell_type": "code",
      "source": [
        "personajes = [\"Guerrero\",\"Mago\",\"Asesino\",\"Cazador\",\"Monje\"];\n",
        "lugares = [\"Hoguera\", \"Ruinas\"];\n",
        "acciones = [\"Conversa\", \"Batalla\", \"Huye\", \"Consume\", \"Adquiere\", \"Observa\"]\n",
        "preposiciones = [\"a\",\"con\",\"de\"]"
      ],
      "metadata": {
        "id": "h8JS7Xd_ngZM"
      },
      "execution_count": null,
      "outputs": []
    },
    {
      "cell_type": "code",
      "source": [
        "import random\n",
        "\n",
        "personaje = random.choice(personajes)\n",
        "lugar = random.choice(lugares)\n",
        "accion = random.choice(acciones)\n",
        "\n",
        "if accion == \"Conversa\" or accion == \"Batalla\":\n",
        "    preposicion = \"con\"\n",
        "elif accion == \"Consume\" or accion == \"Adquiere\" or accion == \"Observa\":\n",
        "    preposicion = \"a\"\n",
        "\n",
        "historia = f\"Un {personaje} {accion} {preposicion} Clérigo en {lugar}.\"\n",
        "print(historia)"
      ],
      "metadata": {
        "colab": {
          "base_uri": "https://localhost:8080/"
        },
        "id": "2ikupwrDoLbx",
        "outputId": "bab0a220-64e9-4ab3-98e3-5957234d096e"
      },
      "execution_count": null,
      "outputs": [
        {
          "output_type": "stream",
          "name": "stdout",
          "text": [
            "Un Asesino Observa a Clérigo en Ruinas.\n"
          ]
        }
      ]
    },
    {
      "cell_type": "code",
      "source": [
        "if personaje == \"Guerrero\" and \"Cazador\" : print(\"¡Destrozacraneos!\")\n",
        "else : print(\"Aburrido...\")"
      ],
      "metadata": {
        "colab": {
          "base_uri": "https://localhost:8080/"
        },
        "id": "Fb1aJ1QaoL3J",
        "outputId": "8e1f9cfe-5c80-47ca-9092-b176a313004f"
      },
      "execution_count": null,
      "outputs": [
        {
          "output_type": "stream",
          "name": "stdout",
          "text": [
            "Aburrido...\n"
          ]
        }
      ]
    },
    {
      "cell_type": "code",
      "source": [
        "for i in range(5):\n",
        "  personaje = random.choice(personajes)\n",
        "lugar = random.choice(lugares)\n",
        "accion = random.choice(acciones)\n",
        "\n",
        "if accion == \"Conversa\" or accion == \"Batalla\":\n",
        "    preposicion = \"con\"\n",
        "elif accion == \"Consume\" or accion == \"Adquiere\" or accion == \"Observa\":\n",
        "    preposicion = \"a\"\n",
        "\n",
        "historia = f\"Un {personaje} {accion} {preposicion} Clérigo en {lugar}.\"\n",
        "\n",
        "print(f\"Historia {i+1}: {historia}\")"
      ],
      "metadata": {
        "colab": {
          "base_uri": "https://localhost:8080/"
        },
        "id": "OCNjGZ8boMIi",
        "outputId": "6b879ac1-837e-4a33-f486-6ee5ad594a73"
      },
      "execution_count": null,
      "outputs": [
        {
          "output_type": "stream",
          "name": "stdout",
          "text": [
            "Historia 5: Un Asesino Observa a Clérigo en Hoguera.\n"
          ]
        }
      ]
    }
  ]
}