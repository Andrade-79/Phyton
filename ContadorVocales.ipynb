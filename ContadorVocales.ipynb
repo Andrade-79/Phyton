{
  "nbformat": 4,
  "nbformat_minor": 0,
  "metadata": {
    "colab": {
      "provenance": []
    },
    "kernelspec": {
      "name": "python3",
      "display_name": "Python 3"
    },
    "language_info": {
      "name": "python"
    }
  },
  "cells": [
    {
      "cell_type": "code",
      "execution_count": null,
      "metadata": {
        "colab": {
          "base_uri": "https://localhost:8080/"
        },
        "id": "xTW0x_Jo7R_a",
        "outputId": "ad967279-9491-4040-afde-f2a0c92b8f00"
      },
      "outputs": [
        {
          "output_type": "stream",
          "name": "stdout",
          "text": [
            "Pon lo qué quieras: Holaaa\n",
            "Tu frase fue: Holaaa\n",
            "Cantidad de vocales:  4\n"
          ]
        }
      ],
      "source": [
        "frase = input(\"Pon lo qué quieras: \")\n",
        "\n",
        "vocales = \"aeiou\"\n",
        "contadorVocales = 0\n",
        "\n",
        "for letra in frase.lower():\n",
        "    if letra in vocales:\n",
        "        contadorVocales += 1\n",
        "\n",
        "\n",
        "\n",
        "print(f\"Tu frase fue: {frase}\")\n",
        "print(f\"Cantidad de vocales:  {contadorVocales}\")"
      ]
    }
  ]
}